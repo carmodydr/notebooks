{
 "cells": [
  {
   "cell_type": "markdown",
   "metadata": {},
   "source": [
    "# Networks: graphs and trees\n",
    "\n",
    "## Graphs\n",
    "\n",
    "### Network terms\n",
    "\n",
    "- node/vertex O(V)\n",
    "\n",
    "- edge O(E)\n",
    "\n",
    "- degree\n",
    "    - the number of edges a node has\n",
    "\n",
    "- diameter\n",
    "    - the longest path across the graph\n",
    "\n",
    "- centrality\n",
    "    - identifies most important vertices of the graph\n",
    "    - degree\n",
    "        - Bonacich\n",
    "    - closeness: reciprocal of sum of shortest paths $C(x) = \\frac{1}{\\sum_y  d(x,y)}$\n",
    "    - betweeness: the number of times a node lies on the shortests path between two other nodes\n",
    "\n",
    "### Path algorithms\n",
    "\n",
    "- Dijkstra\n",
    "\n",
    "- Bellman-Ford - directed graphs, can handle negative edge weights\n",
    "\n",
    "## Trees\n",
    "\n",
    "### Type\n",
    "\n",
    "- Binary: maximum two branches, (optional, binary search tree - left/right ordered)\n",
    "\n",
    "- Heap: hierarchically ordered\n",
    "\n",
    "### Search/Traversal\n",
    "\n",
    "- Breadth-first Search (BFS)\n",
    "    - queue\n",
    "\n",
    "- Depth-first Search (DFS)\n",
    "    - stack"
   ]
  },
  {
   "cell_type": "markdown",
   "metadata": {},
   "source": [
    "Les Mis character graph: http://networkdata.ics.uci.edu/data/lesmis/\n",
    "\n",
    "use in Mike Bostock's Force-Directed Graph D3 visualization \n",
    "https://bl.ocks.org/mbostock/4062045"
   ]
  },
  {
   "cell_type": "code",
   "execution_count": 14,
   "metadata": {
    "collapsed": true
   },
   "outputs": [],
   "source": [
    "import pandas as pd\n",
    "import networkx as nx\n",
    "g = nx.from_pandas_dataframe(df,'Artist','SimArtist',edge_attr=weight)\n",
    "nx.bellman_ford(g,'node','node2')\n",
    "nx.breadth_first_search(G,startnode)"
   ]
  },
  {
   "cell_type": "markdown",
   "metadata": {},
   "source": [
    "**Other potential Dijkstra visualizations/descriptions**:\n",
    "- https://www.cs.usfca.edu/~galles/visualization/Dijkstra.html\n",
    "- http://vasir.net/blog/game_development/dijkstras_algorithm_shortest_path"
   ]
  },
  {
   "cell_type": "markdown",
   "metadata": {},
   "source": [
    "### Breadth-first\n",
    "\n",
    "![figure](img/300px-Breadth-first-tree.png)\n",
    "\n",
    "        image source: https://en.wikipedia.org/wiki/Breadth-first_search"
   ]
  },
  {
   "cell_type": "markdown",
   "metadata": {},
   "source": [
    "### Depth-first\n",
    "\n",
    "![figure](img/300px-Depth-first-tree.png)\n",
    "\n",
    "        image source: https://en.wikipedia.org/wiki/Depth-first_search"
   ]
  },
  {
   "cell_type": "code",
   "execution_count": null,
   "metadata": {
    "collapsed": true
   },
   "outputs": [],
   "source": []
  }
 ],
 "metadata": {
  "kernelspec": {
   "display_name": "Python 2",
   "language": "python",
   "name": "python2"
  },
  "language_info": {
   "codemirror_mode": {
    "name": "ipython",
    "version": 2
   },
   "file_extension": ".py",
   "mimetype": "text/x-python",
   "name": "python",
   "nbconvert_exporter": "python",
   "pygments_lexer": "ipython2",
   "version": "2.7.11"
  }
 },
 "nbformat": 4,
 "nbformat_minor": 0
}
